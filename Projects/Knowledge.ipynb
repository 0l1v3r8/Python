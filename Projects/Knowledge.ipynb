{
 "cells": [
  {
   "cell_type": "code",
   "execution_count": 16,
   "id": "850ef0e7",
   "metadata": {},
   "outputs": [
    {
     "data": {
      "text/plain": [
       "[[['statistics',\n",
       "   'multivariable calculus',\n",
       "   'mechanics',\n",
       "   'linear algebra',\n",
       "   'differential equations',\n",
       "   'numerical methods'],\n",
       "  ['weather',\n",
       "   'physical chemistry',\n",
       "   'hydrology',\n",
       "   'hydrogeology',\n",
       "   'oceanography',\n",
       "   'climatology'],\n",
       "  [['python',\n",
       "    'java',\n",
       "    'SQL',\n",
       "    'R',\n",
       "    'C',\n",
       "    'C++',\n",
       "    ['html', 'css', 'javascript', 'php']],\n",
       "   ['DS+AG', 'Machine Learning', 'AI', 'Computer vision']]]]"
      ]
     },
     "execution_count": 16,
     "metadata": {},
     "output_type": "execute_result"
    }
   ],
   "source": [
    "knowledge = []\n",
    "maths = [\"statistics\", \"multivariable calculus\", \"mechanics\", \"linear algebra\", \"differential equations\",\"numerical methods\"]\n",
    "technical = [\"weather\", \"physical chemistry\", \"hydrology\", \"hydrogeology\", \"oceanography\",\"climatology\"]\n",
    "cmp_principals = [\"DS+AG\",\"Machine Learning\", \"AI\",\"Computer vision\"]\n",
    "web_lang = [\"html\", \"css\", \"javascript\", \"php\"]\n",
    "languages = [\"python\", \"java\", \"SQL\", \"R\", \"C\", \"C++\", web_lang]\n",
    "computational = [languages, cmp_principals]\n",
    "knowledge.append([maths,technical,computational])\n",
    "knowledge"
   ]
  }
 ],
 "metadata": {
  "kernelspec": {
   "display_name": "base",
   "language": "python",
   "name": "python3"
  },
  "language_info": {
   "codemirror_mode": {
    "name": "ipython",
    "version": 3
   },
   "file_extension": ".py",
   "mimetype": "text/x-python",
   "name": "python",
   "nbconvert_exporter": "python",
   "pygments_lexer": "ipython3",
   "version": "3.9.7"
  },
  "vscode": {
   "interpreter": {
    "hash": "68e77a2019630c844ad2ed089cfeaa1ff41081e574fef0e7734cace63a14be5f"
   }
  }
 },
 "nbformat": 4,
 "nbformat_minor": 5
}
