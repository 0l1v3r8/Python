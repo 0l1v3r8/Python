{
 "cells": [
  {
   "cell_type": "markdown",
   "metadata": {},
   "source": [
    "# Python Labsheet Weeks 1-3 Part 1\n",
    "\n",
    "## Objectives\n",
    "\n",
    "This labsheet is designed to help recap your Python knowledge from basic programming through to functions. While working on this labsheet you will get a practical refresher in writing python code. All content in this labsheet is covered in the week 1 lecture, so please have the lecture slides open to go through in parallel. If you need any help, advice, or if you have general questions about coding in Python please chat to us in the lab!"
   ]
  },
  {
   "cell_type": "markdown",
   "metadata": {},
   "source": [
    "## Basic Python Questions: Variables\n",
    "\n",
    "Write a cell to accomplish each of these exercises.\n",
    "\n",
    "1.\tSimple Message: Assign a message to a variable, and then print that message.\n",
    "2.\tSimple Messages: Assign a message to a variable and print that message. Then change the value of variable to a new message and print the new message.\n",
    "3.\tPersonal Message: Using a variable to represent a person’s name, and print a message to that person. Your message should be simple, such as, “Hello Aaron, would you like to learn some Python today?” F strings may help you here - look here for more information: https://docs.python.org/3/tutorial/inputoutput.html\n",
    "4.\tName Cases: Use a variable to represent a person’s name, and then print that person’s name in lowercase, uppercase, and title case.\n",
    "5.\tFamous Quote: Find a famous person you admire. Print the quote and the name of it’s author. For example. \n",
    " Donald Knuth once said: “Premature optimisation is the root of all evil”\n",
    "6.\tRepeat exercise 5, but this this time represent the famous person’s name using a variable called famous_person. The compose your message and present it with new a variable called message."
   ]
  },
  {
   "cell_type": "code",
   "execution_count": null,
   "metadata": {},
   "outputs": [],
   "source": []
  },
  {
   "cell_type": "markdown",
   "metadata": {},
   "source": [
    "## Basic Python Questions: Logic\n",
    "\n",
    "1.\tConditional Tests: Write a series of conditional tests. Print a statement describing each test and your prediction for the results of each test. \n",
    "a.\tLook closely at your results, and make sure you understand why each line evaluates to True or False.\n",
    "b.\tCreate at least 10 tests. Have at least 5 tests evaluated to True and another 5 tests evaluate to False.\n",
    "\n",
    "2.\tMore Conditional Tests: You don’t have to limit the number of tests you create to 10. If you want more tests, write more and add them to the cell. Tests you could consider.\n",
    "    1.\tTest for using lower() function\n",
    "    2.\tNumercial tests, checking equality and higher or lower.\n",
    "    3.\tTests using the AND keyword\n",
    "    4.\tTests using the OR keyword\n",
    "    5.\tTests using the NOT keyword\n",
    "    6.\tTests whether and item is contained, or not contained in a list\n",
    "\n",
    "3.\tDay Number: Sometimes we want to convert a string representation to a numerical one. For example, Monday is the 1st day of the week, and Sunday is the 7th. Write an if-elif-else chain to print the correct day number for any day string. \n",
    "\n",
    "\n"
   ]
  },
  {
   "cell_type": "code",
   "execution_count": null,
   "metadata": {},
   "outputs": [],
   "source": []
  },
  {
   "cell_type": "markdown",
   "metadata": {},
   "source": [
    "## Basic Python Questions: Lists\n",
    "\n",
    "Write a cell to accomplish each of these exercises.\n",
    "\n",
    "1.\tNames: Store the names of a few of your friends in a list called names. Print each person’s name by accessing each element in the list, one at a time.\n",
    "2.\tGreetings: Start with the list used in 1, but instead of just printing there name, print a message to them instead. The text of each message should be the same, but each message should be personalized with the person’s name. Again, using F strings will really help here.\n",
    "3.\tDays in a month: Different months have a different number of days in them. Create separate lists which contain the collection of months with the same number of days. Write a if-elif-else chain to print the correct number of days based on a given month.\n",
    "4.\tGuest List:  If you could invite anyone to dinner, living or deceased, who would you invite? Make a list that includes at least three people who you would like to invite, and then print a message inviting them. \n",
    "5.\tChanging Guest List: You have heard one of your guests can’t make the dinner so you need to send out new invitations. Starting with your program from 4.\n",
    "    1.\tAt the end of your program add a print() call stating which guest can’t come\n",
    "    2.\tModify your list, replacing the name of the guest who can’t make it, and with the name of the person you’re now inviting.\n",
    "    3.\tPrint a second set of invitations messages, one for each person is still on the list.\n",
    "6.\tMore Guests: You have suddenly found a larger dinner table. Think of three more guests to invite.\t\n",
    "    1.\tStart with your programming from 4 and 5. Add print at the end informing your guests that you’ve found a bigger table\n",
    "    2.\tUse insert() to add one new guest to the beginning of the list\n",
    "    3.\tUse insert() to add one new guest to the middle of your list\n",
    "    4.\tUse append() to add one new guest to the end of your list\n",
    "    5.\tPrint a new set of invitations for each person in your list.\n",
    "7.\tShrinking Guest List: You found out your new dinner table won’t arrive in time for dinner, and you only have space for two guests.\n",
    "a.\tStart with your program from 6. Add a new line that prints a message saying you can only invite two guests now.\n",
    "b.\tUse pop() to remove guests from your list on at a time until only two names remain. Each time you pop a name, print a message saying you’re sorry you can’t invite them.\n",
    "c.\tPrint a message to each of the two people still on your list letting them know, they are still invited. \n",
    "d.\tUse del to remove the last two names from your list, so you have an empty list. Print your list to make sure you actually have an empty list at the end of your program.\n"
   ]
  },
  {
   "cell_type": "code",
   "execution_count": null,
   "metadata": {},
   "outputs": [],
   "source": []
  },
  {
   "cell_type": "markdown",
   "metadata": {},
   "source": [
    "\n",
    "\n",
    "## Basic Python Questions: Input\n",
    "\n",
    "1.\tNames: Write a program to receive an input from the terminal, by asking for a name. Store the name in a variable and print this.\n",
    "2.\tRestaurant Seating: Write a program that asks the user how many people are in their dinner group. If the answer is more than eight, print a message saying they’ll have to wait for a table.  Otherwise, report that their table is ready\n",
    "3.\tMultiple of Two: Ask the user for a number, and then report whether the number is a multiple of 2 or not.\n",
    "4.\tCinema Tickets: A cinema charges different ticket prices depending on a person’s age. If a person is under the age of 5, the ticket is free. If a person is between 5 and 12 the ticket is £3, if they are over 12 and under 65 the ticket is £10 and if they are over 65 the ticket is £5.  Write a loop in which you ask users their age and tell them the ticket cost. Use `while True:` for your loop here (more loop questions in the next section!)\n",
    "5.\tModify Cinema Ticket: Modify your program from 4. to have an exit conditional to break out of the loop. Use `while True:` for your loop here (more loop questions in the next section!)\n"
   ]
  },
  {
   "cell_type": "code",
   "execution_count": null,
   "metadata": {},
   "outputs": [],
   "source": []
  },
  {
   "cell_type": "markdown",
   "metadata": {},
   "source": [
    "## Basic Python Questions: Loops and Lists\n",
    "\n",
    "1.\tMovies: Store your favourite movies in a list use a for loop to print the names of these movies \n",
    "    1.\tModify your for loop to print a sentence using the name of the movie instead of just the name. Use f strings here.\n",
    "    2.\tModify your program to print an additional sentence after the for loop has finished to ask the user what their favourite film is.\n",
    "2.\tHello Admin: Make a list of five or more usernames, including the name 'admin'. Imagine you are writing code that will print a greeting to each user after they log in to a website. Loop through the list, and print a greeting to each user\n",
    "    1.\tIf the username is 'admin', print a special greeting, such as Hello admin, would you like to see a status report?\n",
    "    2.\tOtherwise, print a generic greeting, such as Hello Eric, thank you for log-ging in again\n",
    "\n",
    "3.\tCheck Usernames: Do the following to create a program that simulates how websites ensure that everyone has a unique username.\n",
    "    1.\t Make a list of five or more usernames called current_users.\n",
    "    2.\t Make another list of five usernames called new_users. Make sure one or two of the new usernames are also in the current_users list.\n",
    "    3.\t Loop through the new_users list to see if each new username has already been used. If it has, print a message that the person will need to enter a new username. If a username has not been used, print a message saying that the username is available.\n",
    "    4.\t Make sure your comparison is case insensitive. If 'John' has been used, 'JOHN' should not be accepted\n"
   ]
  },
  {
   "cell_type": "code",
   "execution_count": null,
   "metadata": {},
   "outputs": [],
   "source": []
  },
  {
   "cell_type": "markdown",
   "metadata": {},
   "source": [
    "## Basic Python Questions: Dictionaries\n",
    "\n",
    "1.\tCharacter: Use a dictionary store information about a character for a simple game. Store their name, and age and height and weight. You could store their armour values or equipment. You could store a bio, or where they’re from etc. \n",
    "2.\tGroup: Use a dictionary to store monster names, and how many of each there are. For example: 2 ogres and 3 goblins.\n",
    "    1.\tWrite a loop to print the enemies in the dictionary \n",
    "    2.\tfind out which enemy there are the most of\n",
    "    3.\tfind out which enemy there are the least of.\n",
    "3.\tGlossary: Dictionaries in python can be used to store related information. \n",
    "    1.\tCreate a monster glossary to contain information about each of your monsters. \n",
    "    2.\tPrint each monster and its biography in a nicely formatted output. \n",
    "4.\tInventory: Create some items by creating a dictionary for each item. You might want to store the name, and how much it’s worth and some information about it.\n",
    "    1.\tCreate a list, which stores all these items\n",
    "    2.\tLoop through the list of dictionaries printing a well formatted string with details about each item. \n"
   ]
  },
  {
   "cell_type": "code",
   "execution_count": null,
   "metadata": {},
   "outputs": [],
   "source": []
  },
  {
   "cell_type": "markdown",
   "metadata": {},
   "source": [
    "# Further exercises\n",
    "These questions cover skills not discussed in lecture 1. If you've done Python programming before you can work on these questions as a refresher, however don't worry if not as they'll feature at the beginning of next weeks lab."
   ]
  },
  {
   "cell_type": "markdown",
   "metadata": {},
   "source": [
    "## Basic Python Questions: Functions\n",
    "\n",
    "1.\tMessage:  Write a function called `display_message()` that prints one sentence explaining something about Python. Call the function, and check it displays the message.\n",
    "2.\tItem: Write a function called `display_item()` that receives an items name, and how much it costs. The function should print a message summarising the item, and its value. Call the function once using positional arguments. Call the function a second time using keyword arguments.\n",
    "3.\tExpensive Item: Modify the function display_item such that it’s default cost is 100. Make two items one that uses the default price, and one that uses a set price.\n",
    "4.\tPeople: Make a list of human names. Pass the list to a function called `show_people()` this should print the names of each person.\n",
    "5.\tCreate Chatacter: Write a function called `create_character()` that builds a dictionary describing a player in a gane. The function should take the characters name, their age, height, weight. The function should return a dictionary with these attributes set.\n",
    "    1.\tExtend the character creation function to accept additional parameters. Consider hair/eye colour. Male/Female. \n",
    "6.\tUser Character: Use your program from 4. Write a while loop that allows users to enter different information for their character. Once you have collected the information called `create_character` with the user’s input and print the dictionary that’s been created.\n"
   ]
  },
  {
   "cell_type": "code",
   "execution_count": null,
   "metadata": {},
   "outputs": [],
   "source": []
  },
  {
   "cell_type": "markdown",
   "metadata": {},
   "source": [
    "## Basic Python Questions: Static and Non static class functions \n",
    "1. Create a class called LearningBasicClasses() \n",
    "2. Create a non-static function called nonstatic_method to enable a print that the non-static method is working \n",
    "3. Create a 2nd function called static_method to enable a print that the static method is working too \n",
    "4. In main call the class and methods and check they’ve printed out to the console correctly"
   ]
  },
  {
   "cell_type": "code",
   "execution_count": null,
   "metadata": {},
   "outputs": [],
   "source": []
  },
  {
   "cell_type": "markdown",
   "metadata": {},
   "source": [
    "## Basic Python Questions: Simple OO Programming \n",
    "1. Create a class called Employee and set  the employee count to 0  \n",
    "2. Create a function to initate the name and salary and count the number of employees \n",
    "3. Create a function to enable a print of the total Employee count  \n",
    "4. Create a function to enable a print of each employee’s name and salary \n",
    "5. Name the first employee Luke with a salary of 2000  \n",
    "6. Name the second employee Han with a salary of 5000 \n",
    "7. Call the first and second employees so they can display the employee name and salary (Hint you \n",
    "will need to call one of the above functions \n",
    "8. Enable a print of the Total employee number by calling one of the above functions."
   ]
  },
  {
   "cell_type": "code",
   "execution_count": null,
   "metadata": {},
   "outputs": [],
   "source": []
  }
 ],
 "metadata": {
  "interpreter": {
   "hash": "a1a7188440b8edd30f7c30cc15ef79b575d6a8dee1d77dbfc5d0dce06e4b83a8"
  },
  "kernelspec": {
   "display_name": "Python 3",
   "language": "python",
   "name": "python3"
  },
  "language_info": {
   "codemirror_mode": {
    "name": "ipython",
    "version": 3
   },
   "file_extension": ".py",
   "mimetype": "text/x-python",
   "name": "python",
   "nbconvert_exporter": "python",
   "pygments_lexer": "ipython3",
   "version": "3.8.8"
  }
 },
 "nbformat": 4,
 "nbformat_minor": 2
}
